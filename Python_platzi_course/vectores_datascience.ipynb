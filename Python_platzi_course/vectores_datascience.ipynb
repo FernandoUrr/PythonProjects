{
 "metadata": {
  "language_info": {
   "codemirror_mode": {
    "name": "ipython",
    "version": 3
   },
   "file_extension": ".py",
   "mimetype": "text/x-python",
   "name": "python",
   "nbconvert_exporter": "python",
   "pygments_lexer": "ipython3",
   "version": "3.9.2"
  },
  "orig_nbformat": 2,
  "kernelspec": {
   "name": "python3",
   "display_name": "Python 3.9.2 64-bit",
   "metadata": {
    "interpreter": {
     "hash": "2646477c35d7127a9d4e7c2fd97c82901a96382ea3ded99c1014cf42518939dc"
    }
   }
  }
 },
 "nbformat": 4,
 "nbformat_minor": 2,
 "cells": [
  {
   "source": [
    "Los vectores pueden venir en dos presentaciones, desde columna o filas. \n",
    "Un vector es una lista finita.\n",
    "\n",
    "Bloque o stack de vectores. En este caso, se concatenan los vectores. No es suma escalar de vectores.\n",
    "\n",
    "Subvector. Una vez concatenados los vectores, se pueden tomar los subvectores para cada sub índice.\n",
    "\n",
    "Ejemplo: Modelo Aditivo de RGB"
   ],
   "cell_type": "markdown",
   "metadata": {}
  },
  {
   "cell_type": "code",
   "execution_count": 1,
   "metadata": {},
   "outputs": [
    {
     "output_type": "stream",
     "name": "stdout",
     "text": [
      "El color rojo en el modelo RGB se puede representar por el vector:  [255, 0, 0]\n"
     ]
    }
   ],
   "source": [
    "rojo = [255, 0, 0]\n",
    "verde = [0, 255, 0]\n",
    "azul = [0, 0, 255]\n",
    "negro = [0, 0, 0]\n",
    "#Se usan listas para representar los vectores\n",
    "#Usando comas, se puede concatenar la variable con el print.\n",
    "print(\"El color rojo en el modelo RGB se puede representar por el vector: \",rojo)\n"
   ]
  },
  {
   "cell_type": "code",
   "execution_count": 2,
   "metadata": {},
   "outputs": [
    {
     "output_type": "stream",
     "name": "stdout",
     "text": [
      "El color rojo en el modelo RGB se puede representar por el vector:  [0, 255, 0]\nEl color rojo en el modelo RGB se puede representar por el vector:  [0, 0, 255]\nEl color rojo en el modelo RGB se puede representar por el vector:  [0, 0, 0]\n"
     ]
    }
   ],
   "source": [
    "print(\"El color rojo en el modelo RGB se puede representar por el vector: \",verde)\n",
    "print(\"El color rojo en el modelo RGB se puede representar por el vector: \",azul)\n",
    "print(\"El color rojo en el modelo RGB se puede representar por el vector: \",negro)"
   ]
  },
  {
   "cell_type": "code",
   "execution_count": 3,
   "metadata": {},
   "outputs": [],
   "source": [
    "rojo_y_verde = rojo + verde #Se concatenan los vectores "
   ]
  },
  {
   "cell_type": "code",
   "execution_count": 4,
   "metadata": {},
   "outputs": [
    {
     "output_type": "stream",
     "name": "stdout",
     "text": [
      "[255, 0, 0, 0, 255, 0]\n"
     ]
    }
   ],
   "source": [
    "print(rojo_y_verde)"
   ]
  },
  {
   "cell_type": "code",
   "execution_count": 5,
   "metadata": {},
   "outputs": [
    {
     "output_type": "stream",
     "name": "stdout",
     "text": [
      "[0, 255, 0]\n"
     ]
    }
   ],
   "source": [
    "print(rojo_y_verde[3:])"
   ]
  },
  {
   "source": [
    "Suma de vectores (deben tener la misma dimensión) Python concatena con el operador suma. \n",
    "Advertencia: No todas las operaciones son cerradasen su espacio vectorial, no siempre el resultado va a ser un vector que esté contenido en el espacio vectorial. "
   ],
   "cell_type": "markdown",
   "metadata": {}
  },
  {
   "cell_type": "code",
   "execution_count": 6,
   "metadata": {},
   "outputs": [
    {
     "output_type": "stream",
     "name": "stdout",
     "text": [
      "Al sumar rojo y negro, tenemos:  [255, 0, 0]\n"
     ]
    }
   ],
   "source": [
    "#Solución con una función que nos haga la suma elemento por elemento\n",
    "\n",
    "def suma_vectores (a, b):\n",
    "    return [i+j for i, j in zip(a,b)] #El zip es una clase que recibe dos listas o tuplas y las ordena\n",
    "\n",
    "print(\"Al sumar rojo y negro, tenemos: \", suma_vectores(rojo, negro))"
   ]
  },
  {
   "cell_type": "code",
   "execution_count": 9,
   "metadata": {},
   "outputs": [],
   "source": [
    "import numpy as np #Importamos el todo poderoso Numpy"
   ]
  },
  {
   "cell_type": "code",
   "execution_count": 12,
   "metadata": {},
   "outputs": [],
   "source": [
    "rojo = np.array(rojo)\n",
    "negro = np.array(negro)\n",
    "\n",
    "#Declaramos estas funciones para cambiar el objeto a un numpy array"
   ]
  },
  {
   "cell_type": "code",
   "execution_count": 13,
   "metadata": {},
   "outputs": [
    {
     "output_type": "stream",
     "name": "stdout",
     "text": [
      "[255   0   0]\n"
     ]
    }
   ],
   "source": [
    "print(rojo + negro)"
   ]
  },
  {
   "source": [
    "Probemos a crear un vector con el paquete numpy y realizando el producto escalar. "
   ],
   "cell_type": "markdown",
   "metadata": {}
  },
  {
   "cell_type": "code",
   "execution_count": 14,
   "metadata": {},
   "outputs": [
    {
     "output_type": "stream",
     "name": "stdout",
     "text": [
      "[ 3.1 -3.1  3.1]\n"
     ]
    }
   ],
   "source": [
    "x = np.array([1, -1, 1])\n",
    "a = 3.1\n",
    "\n",
    "print (a * x)"
   ]
  },
  {
   "source": [
    "El propio producto punto "
   ],
   "cell_type": "markdown",
   "metadata": {}
  },
  {
   "cell_type": "code",
   "execution_count": 15,
   "metadata": {},
   "outputs": [
    {
     "output_type": "stream",
     "name": "stdout",
     "text": [
      "<a,b> =  0\n"
     ]
    }
   ],
   "source": [
    "#Definimos los vectores = \n",
    "a = np.array([1, 0, 0, 0])\n",
    "b = np.array([0, 0, 1, 0])\n",
    "print (\"<a,b> = \", np.dot(a , b))"
   ]
  },
  {
   "cell_type": "code",
   "execution_count": 16,
   "metadata": {},
   "outputs": [
    {
     "output_type": "stream",
     "name": "stdout",
     "text": [
      "0\n"
     ]
    }
   ],
   "source": [
    "#El operador @ sirve dentro de Numpy, representa la multiplicacion\n",
    "\n",
    "print(a.T @ b)"
   ]
  },
  {
   "cell_type": "code",
   "execution_count": null,
   "metadata": {},
   "outputs": [],
   "source": [
    "#Hagamos el ejercicio del polinomio = 1+2X\n",
    "def p(x):\n",
    "    return np.array([1, 2])@np.array([1, x])\n",
    "\n",
    "#Expresamos esta función como multiplicación de dos vectores \n"
   ]
  }
 ]
}